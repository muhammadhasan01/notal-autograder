{
  "metadata": {
    "language_info": {
      "codemirror_mode": {
        "name": "python",
        "version": 3
      },
      "file_extension": ".py",
      "mimetype": "text/x-python",
      "name": "python",
      "nbconvert_exporter": "python",
      "pygments_lexer": "ipython3",
      "version": "3.8"
    },
    "kernelspec": {
      "name": "python",
      "display_name": "Pyolite",
      "language": "python"
    }
  },
  "nbformat_minor": 4,
  "nbformat": 4,
  "cells": [
    {
      "cell_type": "code",
      "source": "# Import libraries\nimport pandas as pd\nimport matplotlib.pyplot as plt\nimport numpy as np\nfrom sklearn.metrics import mean_absolute_error, confusion_matrix, ConfusionMatrixDisplay",
      "metadata": {
        "trusted": true
      },
      "execution_count": null,
      "outputs": []
    },
    {
      "cell_type": "code",
      "source": "# Global constant variable declarations\nFILE_NAMES = ['kuis2_IA', 'kuis2_IB', 'kuis2_IC', 'uts_IA', 'uts_IB', 'all']\nX_AXIS = 'nilai autograder'\nY_AXIS = 'nilai manual'\nEPS = 0.001",
      "metadata": {
        "trusted": true
      },
      "execution_count": null,
      "outputs": []
    },
    {
      "cell_type": "code",
      "source": "# Read files\ndataframes = {}\nfor name in FILE_NAMES:\n    dataframes[name] = pd.read_csv(f'grades_{name}.csv')",
      "metadata": {
        "trusted": true
      },
      "execution_count": null,
      "outputs": []
    },
    {
      "cell_type": "code",
      "source": "# Correlation function\ndef correlation(df):\n    return df.corr()",
      "metadata": {
        "trusted": true
      },
      "execution_count": null,
      "outputs": []
    },
    {
      "cell_type": "code",
      "source": "# MAE (Mean Absolute Error) function\ndef mae(df):\n    return mean_absolute_error(df[X_AXIS], df[Y_AXIS])",
      "metadata": {
        "trusted": true
      },
      "execution_count": null,
      "outputs": []
    },
    {
      "cell_type": "code",
      "source": "# Linear Regression Plot function\ndef linear_regression_plot(df):\n    m, b = np.polyfit(df[X_AXIS], df[Y_AXIS], 1)\n    fig, ax = plt.subplots(figsize=(8, 8), dpi=60)\n    ax.scatter(df[X_AXIS], df[Y_AXIS])\n    ax.set_title('Perbandingan Hasil Penilaian Menggunakan Sistem Autograder\\n dan Hasil Penilaian Manual oleh Pendidik')\n    ax.set_xlabel('Hasil Penilaian Menggunakan Sistem Autograder')\n    ax.set_ylabel('Hasil Penilaian Manual oleh Pendidik')\n    ax.set_xlim([0, 100])\n    ax.set_ylim([0, 100])\n    ax.set_aspect(1)\n    ax.plot(df[Y_AXIS], m * df[Y_AXIS] + b)\n    plt.show()",
      "metadata": {
        "trusted": true
      },
      "execution_count": null,
      "outputs": []
    },
    {
      "cell_type": "code",
      "source": "# Confusion Matrix Plot function\ndef confusion_matrix_plot(df):\n    bins = [10 * x - EPS for x in range(11)] + [100 + EPS]\n    labels = range(11)\n\n    cat_X = pd.cut(df[X_AXIS], bins=bins, labels=labels)\n    cat_Y = pd.cut(df[Y_AXIS], bins=bins, labels=labels)\n    categorized_grade = pd.concat([cat_X, cat_Y], axis=1)\n    \n    cm = confusion_matrix(categorized_grade[X_AXIS], categorized_grade[Y_AXIS], labels=labels)\n    disp = ConfusionMatrixDisplay(confusion_matrix=cm, display_labels=labels)\n    fig, ax = plt.subplots(figsize=(10, 8), dpi=60)\n    ax.set_title('Confusion Matrix Perbandingan Hasil Penilaian Menggunakan Sistem Autograder\\n dan Hasil Penilaian Manual oleh Pendidik')\n    disp.plot(ax=ax)\n    disp.ax_.set(xlabel=X_AXIS, ylabel=Y_AXIS)\n    plt.show()",
      "metadata": {
        "trusted": true
      },
      "execution_count": null,
      "outputs": []
    },
    {
      "cell_type": "code",
      "source": "# Print Correlations\nfor name, df in dataframes.items():\n    print(f'Correlation of dataframe {name} exam:\\n', correlation(df), '\\n-----\\n')",
      "metadata": {
        "trusted": true
      },
      "execution_count": null,
      "outputs": []
    },
    {
      "cell_type": "code",
      "source": "# Print MAE\nfor name, df in dataframes.items():\n    print(f'MAE (Mean Absolute Error) of dataframe {name} exam: {mae(df)}')",
      "metadata": {
        "trusted": true
      },
      "execution_count": null,
      "outputs": []
    },
    {
      "cell_type": "code",
      "source": "# Show Linear Regression Plot\nfor name, df in dataframes.items():\n    print(f'Linear Regression Plot of {name} exam:')\n    linear_regression_plot(df)",
      "metadata": {
        "trusted": true
      },
      "execution_count": null,
      "outputs": []
    },
    {
      "cell_type": "code",
      "source": "# Show Confusion Matrix Plot\nfor name, df in dataframes.items():\n    print(f'Confusion Matrix Plot of {name} exam:')\n    confusion_matrix_plot(df)",
      "metadata": {
        "trusted": true
      },
      "execution_count": null,
      "outputs": []
    }
  ]
}